{
 "cells": [
  {
   "cell_type": "code",
   "execution_count": 1,
   "id": "ea68d03f",
   "metadata": {},
   "outputs": [],
   "source": [
    "import pandas as pd\n",
    "import numpy as np"
   ]
  },
  {
   "cell_type": "code",
   "execution_count": 2,
   "id": "45ff527e",
   "metadata": {},
   "outputs": [],
   "source": [
    "import seaborn as sns\n",
    "import matplotlib.pyplot as plt\n",
    "%matplotlib inline"
   ]
  },
  {
   "cell_type": "code",
   "execution_count": 3,
   "id": "8d2928cb",
   "metadata": {},
   "outputs": [],
   "source": [
    "Dataset = pd.read_csv('DataSet.csv')"
   ]
  },
  {
   "cell_type": "code",
   "execution_count": 4,
   "id": "d276c38b",
   "metadata": {},
   "outputs": [
    {
     "data": {
      "text/html": [
       "<div>\n",
       "<style scoped>\n",
       "    .dataframe tbody tr th:only-of-type {\n",
       "        vertical-align: middle;\n",
       "    }\n",
       "\n",
       "    .dataframe tbody tr th {\n",
       "        vertical-align: top;\n",
       "    }\n",
       "\n",
       "    .dataframe thead th {\n",
       "        text-align: right;\n",
       "    }\n",
       "</style>\n",
       "<table border=\"1\" class=\"dataframe\">\n",
       "  <thead>\n",
       "    <tr style=\"text-align: right;\">\n",
       "      <th></th>\n",
       "      <th>net_manager</th>\n",
       "      <th>purchase_area</th>\n",
       "      <th>street</th>\n",
       "      <th>zipcode_from</th>\n",
       "      <th>zipcode_to</th>\n",
       "      <th>city</th>\n",
       "      <th>num_connections</th>\n",
       "      <th>delivery_perc</th>\n",
       "      <th>perc_of_active_connections</th>\n",
       "      <th>type_conn_perc</th>\n",
       "      <th>type_of_connection</th>\n",
       "      <th>annual_consume</th>\n",
       "      <th>year</th>\n",
       "      <th>company_name</th>\n",
       "    </tr>\n",
       "  </thead>\n",
       "  <tbody>\n",
       "    <tr>\n",
       "      <th>0</th>\n",
       "      <td>15</td>\n",
       "      <td>7</td>\n",
       "      <td>84009</td>\n",
       "      <td>0</td>\n",
       "      <td>0</td>\n",
       "      <td>1466</td>\n",
       "      <td>15.0</td>\n",
       "      <td>100.000000</td>\n",
       "      <td>66.67000</td>\n",
       "      <td>47.0</td>\n",
       "      <td>18</td>\n",
       "      <td>12958.0</td>\n",
       "      <td>2009</td>\n",
       "      <td>4</td>\n",
       "    </tr>\n",
       "    <tr>\n",
       "      <th>1</th>\n",
       "      <td>15</td>\n",
       "      <td>7</td>\n",
       "      <td>22185</td>\n",
       "      <td>2</td>\n",
       "      <td>1</td>\n",
       "      <td>92</td>\n",
       "      <td>23.0</td>\n",
       "      <td>100.000000</td>\n",
       "      <td>78.26000</td>\n",
       "      <td>43.0</td>\n",
       "      <td>18</td>\n",
       "      <td>14761.0</td>\n",
       "      <td>2009</td>\n",
       "      <td>4</td>\n",
       "    </tr>\n",
       "    <tr>\n",
       "      <th>2</th>\n",
       "      <td>15</td>\n",
       "      <td>7</td>\n",
       "      <td>22185</td>\n",
       "      <td>3</td>\n",
       "      <td>2</td>\n",
       "      <td>92</td>\n",
       "      <td>31.0</td>\n",
       "      <td>100.000000</td>\n",
       "      <td>77.42000</td>\n",
       "      <td>58.0</td>\n",
       "      <td>18</td>\n",
       "      <td>12139.0</td>\n",
       "      <td>2009</td>\n",
       "      <td>4</td>\n",
       "    </tr>\n",
       "    <tr>\n",
       "      <th>3</th>\n",
       "      <td>15</td>\n",
       "      <td>7</td>\n",
       "      <td>73134</td>\n",
       "      <td>4</td>\n",
       "      <td>3</td>\n",
       "      <td>92</td>\n",
       "      <td>21.0</td>\n",
       "      <td>100.000000</td>\n",
       "      <td>66.67000</td>\n",
       "      <td>52.0</td>\n",
       "      <td>18</td>\n",
       "      <td>5082.0</td>\n",
       "      <td>2009</td>\n",
       "      <td>4</td>\n",
       "    </tr>\n",
       "    <tr>\n",
       "      <th>4</th>\n",
       "      <td>15</td>\n",
       "      <td>7</td>\n",
       "      <td>73135</td>\n",
       "      <td>5</td>\n",
       "      <td>4</td>\n",
       "      <td>92</td>\n",
       "      <td>15.0</td>\n",
       "      <td>100.000000</td>\n",
       "      <td>60.00000</td>\n",
       "      <td>93.0</td>\n",
       "      <td>18</td>\n",
       "      <td>3712.0</td>\n",
       "      <td>2009</td>\n",
       "      <td>4</td>\n",
       "    </tr>\n",
       "    <tr>\n",
       "      <th>...</th>\n",
       "      <td>...</td>\n",
       "      <td>...</td>\n",
       "      <td>...</td>\n",
       "      <td>...</td>\n",
       "      <td>...</td>\n",
       "      <td>...</td>\n",
       "      <td>...</td>\n",
       "      <td>...</td>\n",
       "      <td>...</td>\n",
       "      <td>...</td>\n",
       "      <td>...</td>\n",
       "      <td>...</td>\n",
       "      <td>...</td>\n",
       "      <td>...</td>\n",
       "    </tr>\n",
       "    <tr>\n",
       "      <th>3952414</th>\n",
       "      <td>4</td>\n",
       "      <td>2</td>\n",
       "      <td>13959</td>\n",
       "      <td>341954</td>\n",
       "      <td>338567</td>\n",
       "      <td>2598</td>\n",
       "      <td>17.0</td>\n",
       "      <td>95.704712</td>\n",
       "      <td>99.89875</td>\n",
       "      <td>65.0</td>\n",
       "      <td>18</td>\n",
       "      <td>5814.0</td>\n",
       "      <td>2019</td>\n",
       "      <td>5</td>\n",
       "    </tr>\n",
       "    <tr>\n",
       "      <th>3952415</th>\n",
       "      <td>4</td>\n",
       "      <td>2</td>\n",
       "      <td>13959</td>\n",
       "      <td>341955</td>\n",
       "      <td>338568</td>\n",
       "      <td>2598</td>\n",
       "      <td>20.0</td>\n",
       "      <td>95.704712</td>\n",
       "      <td>99.89875</td>\n",
       "      <td>40.0</td>\n",
       "      <td>6</td>\n",
       "      <td>11815.0</td>\n",
       "      <td>2019</td>\n",
       "      <td>5</td>\n",
       "    </tr>\n",
       "    <tr>\n",
       "      <th>3952416</th>\n",
       "      <td>4</td>\n",
       "      <td>2</td>\n",
       "      <td>13959</td>\n",
       "      <td>341956</td>\n",
       "      <td>338569</td>\n",
       "      <td>2598</td>\n",
       "      <td>19.0</td>\n",
       "      <td>95.704712</td>\n",
       "      <td>99.89875</td>\n",
       "      <td>63.0</td>\n",
       "      <td>18</td>\n",
       "      <td>4139.0</td>\n",
       "      <td>2019</td>\n",
       "      <td>5</td>\n",
       "    </tr>\n",
       "    <tr>\n",
       "      <th>3952417</th>\n",
       "      <td>4</td>\n",
       "      <td>2</td>\n",
       "      <td>60247</td>\n",
       "      <td>341957</td>\n",
       "      <td>338570</td>\n",
       "      <td>2598</td>\n",
       "      <td>18.0</td>\n",
       "      <td>95.704712</td>\n",
       "      <td>99.89875</td>\n",
       "      <td>56.0</td>\n",
       "      <td>8</td>\n",
       "      <td>2469.0</td>\n",
       "      <td>2019</td>\n",
       "      <td>5</td>\n",
       "    </tr>\n",
       "    <tr>\n",
       "      <th>3952418</th>\n",
       "      <td>4</td>\n",
       "      <td>2</td>\n",
       "      <td>21000</td>\n",
       "      <td>341958</td>\n",
       "      <td>338571</td>\n",
       "      <td>2598</td>\n",
       "      <td>33.0</td>\n",
       "      <td>95.704712</td>\n",
       "      <td>99.89875</td>\n",
       "      <td>36.0</td>\n",
       "      <td>8</td>\n",
       "      <td>4599.0</td>\n",
       "      <td>2019</td>\n",
       "      <td>5</td>\n",
       "    </tr>\n",
       "  </tbody>\n",
       "</table>\n",
       "<p>3952419 rows × 14 columns</p>\n",
       "</div>"
      ],
      "text/plain": [
       "         net_manager  purchase_area  street  zipcode_from  zipcode_to  city  \\\n",
       "0                 15              7   84009             0           0  1466   \n",
       "1                 15              7   22185             2           1    92   \n",
       "2                 15              7   22185             3           2    92   \n",
       "3                 15              7   73134             4           3    92   \n",
       "4                 15              7   73135             5           4    92   \n",
       "...              ...            ...     ...           ...         ...   ...   \n",
       "3952414            4              2   13959        341954      338567  2598   \n",
       "3952415            4              2   13959        341955      338568  2598   \n",
       "3952416            4              2   13959        341956      338569  2598   \n",
       "3952417            4              2   60247        341957      338570  2598   \n",
       "3952418            4              2   21000        341958      338571  2598   \n",
       "\n",
       "         num_connections  delivery_perc  perc_of_active_connections  \\\n",
       "0                   15.0     100.000000                    66.67000   \n",
       "1                   23.0     100.000000                    78.26000   \n",
       "2                   31.0     100.000000                    77.42000   \n",
       "3                   21.0     100.000000                    66.67000   \n",
       "4                   15.0     100.000000                    60.00000   \n",
       "...                  ...            ...                         ...   \n",
       "3952414             17.0      95.704712                    99.89875   \n",
       "3952415             20.0      95.704712                    99.89875   \n",
       "3952416             19.0      95.704712                    99.89875   \n",
       "3952417             18.0      95.704712                    99.89875   \n",
       "3952418             33.0      95.704712                    99.89875   \n",
       "\n",
       "         type_conn_perc  type_of_connection  annual_consume  year  \\\n",
       "0                  47.0                  18         12958.0  2009   \n",
       "1                  43.0                  18         14761.0  2009   \n",
       "2                  58.0                  18         12139.0  2009   \n",
       "3                  52.0                  18          5082.0  2009   \n",
       "4                  93.0                  18          3712.0  2009   \n",
       "...                 ...                 ...             ...   ...   \n",
       "3952414            65.0                  18          5814.0  2019   \n",
       "3952415            40.0                   6         11815.0  2019   \n",
       "3952416            63.0                  18          4139.0  2019   \n",
       "3952417            56.0                   8          2469.0  2019   \n",
       "3952418            36.0                   8          4599.0  2019   \n",
       "\n",
       "         company_name  \n",
       "0                   4  \n",
       "1                   4  \n",
       "2                   4  \n",
       "3                   4  \n",
       "4                   4  \n",
       "...               ...  \n",
       "3952414             5  \n",
       "3952415             5  \n",
       "3952416             5  \n",
       "3952417             5  \n",
       "3952418             5  \n",
       "\n",
       "[3952419 rows x 14 columns]"
      ]
     },
     "execution_count": 4,
     "metadata": {},
     "output_type": "execute_result"
    }
   ],
   "source": [
    "Dataset"
   ]
  },
  {
   "cell_type": "code",
   "execution_count": null,
   "id": "2d214f05",
   "metadata": {},
   "outputs": [],
   "source": []
  },
  {
   "cell_type": "markdown",
   "id": "14f16290",
   "metadata": {},
   "source": [
    "# Multipal regression"
   ]
  },
  {
   "cell_type": "code",
   "execution_count": 5,
   "id": "8ae43cae",
   "metadata": {},
   "outputs": [],
   "source": [
    "x = Dataset.iloc[:,:-3].values     #Features Matrix\n",
    "y = Dataset.iloc[:,-3].values      #dependent variable vector"
   ]
  },
  {
   "cell_type": "code",
   "execution_count": 6,
   "id": "5353abdf",
   "metadata": {},
   "outputs": [],
   "source": [
    "from sklearn.model_selection import train_test_split\n",
    "x_train, x_test, y_train, y_test = train_test_split(x,y, test_size = 0.2, random_state= 1)"
   ]
  },
  {
   "cell_type": "code",
   "execution_count": 7,
   "id": "bb1ecbfa",
   "metadata": {},
   "outputs": [
    {
     "data": {
      "text/plain": [
       "LinearRegression()"
      ]
     },
     "execution_count": 7,
     "metadata": {},
     "output_type": "execute_result"
    }
   ],
   "source": [
    "from sklearn.linear_model import LinearRegression      # Multipal regression\n",
    "regressor = LinearRegression()\n",
    "regressor.fit(x_train, y_train)"
   ]
  },
  {
   "cell_type": "code",
   "execution_count": 8,
   "id": "d86e0a9b",
   "metadata": {},
   "outputs": [],
   "source": [
    "y_pred = regressor.predict(x_test)"
   ]
  },
  {
   "cell_type": "code",
   "execution_count": 9,
   "id": "6021ede6",
   "metadata": {},
   "outputs": [
    {
     "name": "stdout",
     "output_type": "stream",
     "text": [
      "[[ 6743.95 12173.  ]\n",
      " [ 5557.87  2865.  ]\n",
      " [ 2802.96  3206.  ]\n",
      " ...\n",
      " [ 5123.91  3168.  ]\n",
      " [ 5627.23  3061.  ]\n",
      " [ 4619.03  1481.  ]]\n"
     ]
    }
   ],
   "source": [
    "np.set_printoptions(precision=2)\n",
    "print(np.concatenate((y_pred.reshape(len(y_pred),1), y_test.reshape(len(y_test),1)),1))"
   ]
  },
  {
   "cell_type": "code",
   "execution_count": 10,
   "id": "57ce8f2a",
   "metadata": {},
   "outputs": [
    {
     "name": "stdout",
     "output_type": "stream",
     "text": [
      "R²_Score: 25.22 %\n"
     ]
    }
   ],
   "source": [
    "#predicting multiple linear regression to the training set\n",
    "from sklearn.metrics import r2_score                 #regressor.score(x_test, y_test)\n",
    "print('R²_Score: {:.2f} %'.format(r2_score(y_test, y_pred)*100))"
   ]
  },
  {
   "cell_type": "markdown",
   "id": "de940a33",
   "metadata": {},
   "source": [
    "# Polynomial regression"
   ]
  },
  {
   "cell_type": "code",
   "execution_count": 11,
   "id": "ddfe4e17",
   "metadata": {},
   "outputs": [],
   "source": [
    "x = Dataset.iloc[:,:-3].values     #Features Matrix\n",
    "y = Dataset.iloc[:,-3].values  #dependent variable vector"
   ]
  },
  {
   "cell_type": "code",
   "execution_count": 12,
   "id": "75ba966b",
   "metadata": {},
   "outputs": [],
   "source": [
    "from sklearn.model_selection import train_test_split\n",
    "x_train, x_test, y_train, y_test = train_test_split(x,y, test_size = 0.2, random_state= 1)"
   ]
  },
  {
   "cell_type": "code",
   "execution_count": 13,
   "id": "2369b15d",
   "metadata": {},
   "outputs": [
    {
     "data": {
      "text/plain": [
       "LinearRegression()"
      ]
     },
     "execution_count": 13,
     "metadata": {},
     "output_type": "execute_result"
    }
   ],
   "source": [
    "from sklearn.preprocessing import PolynomialFeatures\n",
    "from sklearn.linear_model import LinearRegression\n",
    "poly_reg = PolynomialFeatures(degree = 2)\n",
    "x_poly = poly_reg.fit_transform(x_train)\n",
    "regressor = LinearRegression()\n",
    "regressor.fit(x_poly, y_train)"
   ]
  },
  {
   "cell_type": "code",
   "execution_count": 14,
   "id": "c3fb39df",
   "metadata": {},
   "outputs": [],
   "source": [
    "y_pred = regressor.predict(poly_reg.transform(x_test))"
   ]
  },
  {
   "cell_type": "code",
   "execution_count": 15,
   "id": "4e7daec9",
   "metadata": {},
   "outputs": [
    {
     "name": "stdout",
     "output_type": "stream",
     "text": [
      "[[ 6818.22 12173.  ]\n",
      " [ 4723.8   2865.  ]\n",
      " [ 3130.44  3206.  ]\n",
      " ...\n",
      " [ 4452.73  3168.  ]\n",
      " [ 4607.6   3061.  ]\n",
      " [ 5210.07  1481.  ]]\n"
     ]
    }
   ],
   "source": [
    "np.set_printoptions(precision=2)\n",
    "print(np.concatenate((y_pred.reshape(len(y_pred),1), y_test.reshape(len(y_test),1)),1))"
   ]
  },
  {
   "cell_type": "code",
   "execution_count": 16,
   "id": "c6d6117f",
   "metadata": {},
   "outputs": [
    {
     "name": "stdout",
     "output_type": "stream",
     "text": [
      "R²_Score: 31.27 %\n"
     ]
    }
   ],
   "source": [
    "from sklearn.metrics import r2_score\n",
    "print('R²_Score: {:.2f} %'.format(r2_score(y_test, y_pred)*100))"
   ]
  },
  {
   "cell_type": "code",
   "execution_count": null,
   "id": "7acf521d",
   "metadata": {},
   "outputs": [],
   "source": []
  },
  {
   "cell_type": "markdown",
   "id": "0c1f090c",
   "metadata": {},
   "source": [
    "# Decision_tree_regression"
   ]
  },
  {
   "cell_type": "code",
   "execution_count": 17,
   "id": "d2e611ef",
   "metadata": {},
   "outputs": [],
   "source": [
    "x = Dataset.iloc[:,:-3].values     #Features Matrix\n",
    "y = Dataset.iloc[:,-3].values      #dependent variable vector "
   ]
  },
  {
   "cell_type": "code",
   "execution_count": 18,
   "id": "6ccbd4a1",
   "metadata": {},
   "outputs": [],
   "source": [
    "y = y.reshape(len(y),1)"
   ]
  },
  {
   "cell_type": "code",
   "execution_count": 19,
   "id": "d0586ec4",
   "metadata": {},
   "outputs": [],
   "source": [
    "from sklearn.model_selection import train_test_split\n",
    "x_train, x_test, y_train, y_test = train_test_split(x,y, test_size = 0.2, random_state= 1)"
   ]
  },
  {
   "cell_type": "code",
   "execution_count": 20,
   "id": "bb2c6b89",
   "metadata": {},
   "outputs": [
    {
     "data": {
      "text/plain": [
       "DecisionTreeRegressor(random_state=0)"
      ]
     },
     "execution_count": 20,
     "metadata": {},
     "output_type": "execute_result"
    }
   ],
   "source": [
    "from sklearn.tree import DecisionTreeRegressor           #Build Decision tree regressor model\n",
    "regressor = DecisionTreeRegressor(random_state=0)            #This model is good for high dimensional dataset.\n",
    "regressor.fit(x_train,y_train)       "
   ]
  },
  {
   "cell_type": "code",
   "execution_count": 21,
   "id": "53684c35",
   "metadata": {},
   "outputs": [],
   "source": [
    "y_pred = regressor.predict(x_test)"
   ]
  },
  {
   "cell_type": "code",
   "execution_count": 22,
   "id": "03d6296d",
   "metadata": {},
   "outputs": [
    {
     "name": "stdout",
     "output_type": "stream",
     "text": [
      "[[11614.   12173.  ]\n",
      " [ 3813.25  2865.  ]\n",
      " [ 3397.12  3206.  ]\n",
      " ...\n",
      " [ 2744.    3168.  ]\n",
      " [ 3230.28  3061.  ]\n",
      " [ 1481.    1481.  ]]\n"
     ]
    }
   ],
   "source": [
    "np.set_printoptions(precision=2)\n",
    "print(np.concatenate((y_pred.reshape(len(y_pred),1), y_test.reshape(len(y_test),1)),1))"
   ]
  },
  {
   "cell_type": "code",
   "execution_count": 23,
   "id": "c0a63921",
   "metadata": {},
   "outputs": [
    {
     "name": "stdout",
     "output_type": "stream",
     "text": [
      "R²_Score: 67.86 %\n"
     ]
    }
   ],
   "source": [
    "from sklearn.metrics import r2_score              \n",
    "print('R²_Score: {:.2f} %'.format(r2_score(y_test, y_pred)*100))"
   ]
  },
  {
   "cell_type": "code",
   "execution_count": null,
   "id": "a7f3f8e1",
   "metadata": {},
   "outputs": [],
   "source": []
  },
  {
   "cell_type": "markdown",
   "id": "f4f983dc",
   "metadata": {},
   "source": [
    "# Random_forest_regression"
   ]
  },
  {
   "cell_type": "code",
   "execution_count": 24,
   "id": "0b1672bd",
   "metadata": {},
   "outputs": [],
   "source": [
    "x = Dataset.iloc[:,:-3].values     #Features Matrix\n",
    "y = Dataset.iloc[:,-3].values      #dependent variable vector"
   ]
  },
  {
   "cell_type": "code",
   "execution_count": 25,
   "id": "e519ecbc",
   "metadata": {},
   "outputs": [],
   "source": [
    "from sklearn.model_selection import train_test_split\n",
    "x_train, x_test, y_train, y_test = train_test_split(x,y, test_size = 0.2, random_state= 1)"
   ]
  },
  {
   "cell_type": "code",
   "execution_count": 26,
   "id": "99152612",
   "metadata": {},
   "outputs": [
    {
     "data": {
      "text/plain": [
       "RandomForestRegressor(random_state=0)"
      ]
     },
     "execution_count": 26,
     "metadata": {},
     "output_type": "execute_result"
    }
   ],
   "source": [
    "from sklearn.ensemble import RandomForestRegressor                    #Rendom forest model build\n",
    "regressor = RandomForestRegressor(n_estimators= 100, random_state=0)\n",
    "y_train = y_train.ravel()\n",
    "regressor.fit(x_train,y_train)"
   ]
  },
  {
   "cell_type": "code",
   "execution_count": 27,
   "id": "74006b66",
   "metadata": {},
   "outputs": [],
   "source": [
    "y_pred = regressor.predict(x_test)"
   ]
  },
  {
   "cell_type": "code",
   "execution_count": 28,
   "id": "3b3975fe",
   "metadata": {},
   "outputs": [
    {
     "name": "stdout",
     "output_type": "stream",
     "text": [
      "[[10897.51 12173.  ]\n",
      " [ 3875.84  2865.  ]\n",
      " [ 3399.13  3206.  ]\n",
      " ...\n",
      " [ 2997.07  3168.  ]\n",
      " [ 2919.66  3061.  ]\n",
      " [ 1364.38  1481.  ]]\n"
     ]
    }
   ],
   "source": [
    "np.set_printoptions(precision=2)\n",
    "print(np.concatenate((y_pred.reshape(len(y_pred),1), y_test.reshape(len(y_test),1)),1))"
   ]
  },
  {
   "cell_type": "code",
   "execution_count": 29,
   "id": "c2ae002c",
   "metadata": {},
   "outputs": [
    {
     "name": "stdout",
     "output_type": "stream",
     "text": [
      "R²_Score: 82.82 %\n"
     ]
    }
   ],
   "source": [
    "from sklearn.metrics import r2_score              \n",
    "print('R²_Score: {:.2f} %'.format(r2_score(y_test, y_pred)*100))"
   ]
  },
  {
   "cell_type": "code",
   "execution_count": 30,
   "id": "160f5314",
   "metadata": {},
   "outputs": [],
   "source": [
    "Model = pd.DataFrame({'Regression Model':['Multipal Linear Regression','Polynomial Regression','Decision Tree Regression',\n",
    "                                          'Random Forest Regression'],\n",
    "                      'R²_Score_%':['25.22','31.27','67.86','82.82']},\n",
    "                      index = [1,2,3,4])\n"
   ]
  },
  {
   "cell_type": "code",
   "execution_count": 31,
   "id": "9a06076e",
   "metadata": {},
   "outputs": [],
   "source": [
    "Model['R²_Score_%'] = Model['R²_Score_%'].astype(float)"
   ]
  },
  {
   "cell_type": "code",
   "execution_count": 32,
   "id": "95fe55df",
   "metadata": {},
   "outputs": [
    {
     "data": {
      "image/png": "[encoded data removed]",
      "text/plain": [
       "<Figure size 1080x360 with 1 Axes>"
      ]
     },
     "metadata": {
      "needs_background": "light"
     },
     "output_type": "display_data"
    }
   ],
   "source": [
    "fig = plt.figure(figsize=(15,5))\n",
    "plt.plot('Regression Model','R²_Score_%',data = Model,  marker='*', markersize=20, markerfacecolor = \"b\",color = 'g',alpha =0.8)\n",
    "plt.xlabel('Regression Model')\n",
    "plt.ylabel('R²_Score (%)')\n",
    "plt.title('Regression Model score comparison')\n",
    "plt.show()"
   ]
  },
  {
   "cell_type": "code",
   "execution_count": null,
   "id": "b3455189",
   "metadata": {},
   "outputs": [],
   "source": []
  }
 ],
 "metadata": {
  "kernelspec": {
   "display_name": "Python 3 (ipykernel)",
   "language": "python",
   "name": "python3"
  },
  "language_info": {
   "codemirror_mode": {
    "name": "ipython",
    "version": 3
   },
   "file_extension": ".py",
   "mimetype": "text/x-python",
   "name": "python",
   "nbconvert_exporter": "python",
   "pygments_lexer": "ipython3",
   "version": "3.10.5"
  }
 },
 "nbformat": 4,
 "nbformat_minor": 5
}
